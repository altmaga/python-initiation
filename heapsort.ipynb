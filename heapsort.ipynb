{
 "metadata": {
  "language_info": {
   "codemirror_mode": {
    "name": "ipython",
    "version": 3
   },
   "file_extension": ".py",
   "mimetype": "text/x-python",
   "name": "python",
   "nbconvert_exporter": "python",
   "pygments_lexer": "ipython3",
   "version": "3.8.5-final"
  },
  "orig_nbformat": 2,
  "kernelspec": {
   "name": "python3",
   "display_name": "Python 3",
   "language": "python"
  }
 },
 "nbformat": 4,
 "nbformat_minor": 2,
 "cells": [
  {
   "cell_type": "code",
   "execution_count": 11,
   "metadata": {},
   "outputs": [
    {
     "output_type": "stream",
     "name": "stdout",
     "text": [
      "[2, 4, 5, 13, 15, 17, 18, 21, 24, 26]\n"
     ]
    }
   ],
   "source": [
    "# heap sort example 1\n",
    "def heapify(arr, n, i):\n",
    "    largest = i\n",
    "    l = 2 * i + 1\n",
    "    r = 2 * i + 2\n",
    "    if l < n and arr[i] < arr[l]:\n",
    "        largest = l\n",
    "    if r < n and arr[largest] < arr[r]:\n",
    "        largest = r\n",
    "    if largest != i:\n",
    "        arr[i],arr[largest] = arr[largest],arr[i]\n",
    "        heapify(arr, n, largest)\n",
    "def heapSort(arr):\n",
    "    n = len(arr)\n",
    "    for i in range(n, -1, -1):\n",
    "        heapify(arr, n, i)\n",
    "    for i in range(n-1, 0, -1):\n",
    "        arr[i], arr[0] = arr[0], arr[i]\n",
    "        heapify(arr, i, 0)\n",
    "\n",
    "arr = [13, 21, 15, 5, 26, 4, 17, 18, 24, 2]\n",
    "heapSort(arr)\n",
    "print (arr)"
   ]
  },
  {
   "cell_type": "code",
   "execution_count": 1,
   "metadata": {},
   "outputs": [
    {
     "output_type": "stream",
     "name": "stdout",
     "text": [
      "[2, 4, 5, 13, 15, 17, 18, 21, 24, 26]\n"
     ]
    }
   ],
   "source": [
    "# heap sort example 2\n",
    "from heapq import heappop, heappush\n",
    "\n",
    "def heap_sort(array):\n",
    "    heap = []\n",
    "    for element in array:\n",
    "        heappush(heap, element)\n",
    "\n",
    "    ordered = []\n",
    "\n",
    "    while heap:\n",
    "        ordered.append(heappop(heap))\n",
    "\n",
    "    return ordered\n",
    "\n",
    "array = [13, 21, 15, 5, 26, 4, 17, 18, 24, 2]\n",
    "print(heap_sort(array))"
   ]
  },
  {
   "cell_type": "code",
   "execution_count": 2,
   "metadata": {},
   "outputs": [
    {
     "output_type": "stream",
     "name": "stdout",
     "text": [
      "[2, 4, 5, 13, 15, 17, 18, 21, 24, 26]\n"
     ]
    }
   ],
   "source": [
    "# heap sort algorithm with yield\n",
    "from heapq import heappop, heappush\n",
    "\n",
    "def heap_sort(array):\n",
    "    heap = []\n",
    "    for element in array:\n",
    "        heappush(heap, element)\n",
    "\n",
    "    ordered = []\n",
    "\n",
    "    # While we have elements left in the heap\n",
    "    while heap:\n",
    "        ordered.append(heappop(heap))\n",
    "\n",
    "    yield ordered\n",
    "\n",
    "result = heap_sort([13, 21, 15, 5, 26, 4, 17, 18, 24, 2])\n",
    "for x in result:\n",
    "    print(x)"
   ]
  },
  {
   "cell_type": "code",
   "execution_count": null,
   "metadata": {},
   "outputs": [],
   "source": []
  }
 ]
}